{
 "cells": [
  {
   "cell_type": "code",
   "execution_count": 12,
   "metadata": {},
   "outputs": [
    {
     "name": "stdout",
     "output_type": "stream",
     "text": [
      "11\n"
     ]
    }
   ],
   "source": [
    "# Exemplo 1\n",
    "\n",
    "lList = [3, 4, 2, 1, 3, 3]\n",
    "rList = [4, 3, 5, 3, 9, 3]\n",
    "\n",
    "lList.sort()\n",
    "rList.sort()\n",
    "distance = 0\n",
    "\n",
    "for index in range(len(lList)):\n",
    "    lItem = lList[index]\n",
    "    rItem = rList[index]\n",
    "\n",
    "    distance += abs(lItem - rItem)\n",
    "\n",
    "print(distance)"
   ]
  },
  {
   "cell_type": "code",
   "execution_count": 13,
   "metadata": {},
   "outputs": [
    {
     "name": "stdout",
     "output_type": "stream",
     "text": [
      "1258579\n"
     ]
    }
   ],
   "source": [
    "# Código 1\n",
    "\n",
    "lList = []\n",
    "rList = []\n",
    "distance = 0\n",
    "\n",
    "with open(\"input.txt\", 'r') as arquivo:\n",
    "    for linha in arquivo:\n",
    "        numeros = linha.split()\n",
    "\n",
    "        lList.append(numeros[0])\n",
    "        rList.append(numeros[1])\n",
    "\n",
    "    lList.sort()\n",
    "    rList.sort()\n",
    "\n",
    "    for i in range(len(lList)):\n",
    "        lItem = int(lList[i])\n",
    "        rItem = int(rList[i])\n",
    "\n",
    "        distance += abs(lItem - rItem)\n",
    "\n",
    "    print(distance)"
   ]
  },
  {
   "cell_type": "code",
   "execution_count": 14,
   "metadata": {},
   "outputs": [
    {
     "name": "stdout",
     "output_type": "stream",
     "text": [
      "31\n"
     ]
    }
   ],
   "source": [
    "# Exemplo 2\n",
    "\n",
    "lList = [3, 4, 2, 1, 3, 3]\n",
    "rList = [4, 3, 5, 3, 9, 3]\n",
    "similarity = 0\n",
    "\n",
    "for item in lList:\n",
    "    similarity += item * rList.count(item)\n",
    "\n",
    "print(similarity)"
   ]
  },
  {
   "cell_type": "code",
   "execution_count": 15,
   "metadata": {},
   "outputs": [
    {
     "name": "stdout",
     "output_type": "stream",
     "text": [
      "23981443\n"
     ]
    }
   ],
   "source": [
    "# Código 2\n",
    "\n",
    "lList = []\n",
    "rList = []\n",
    "similarity = 0\n",
    "\n",
    "with open(\"input.txt\", 'r') as arquivo:\n",
    "    for linha in arquivo:\n",
    "        numeros = linha.split()\n",
    "\n",
    "        lList.append(numeros[0])\n",
    "        rList.append(numeros[1])\n",
    "\n",
    "    lList.sort()\n",
    "    rList.sort()\n",
    "\n",
    "    for item in lList:\n",
    "        similarity += int(item) * rList.count(item)\n",
    "\n",
    "    print(similarity)"
   ]
  }
 ],
 "metadata": {
  "kernelspec": {
   "display_name": "Python 3",
   "language": "python",
   "name": "python3"
  },
  "language_info": {
   "codemirror_mode": {
    "name": "ipython",
    "version": 3
   },
   "file_extension": ".py",
   "mimetype": "text/x-python",
   "name": "python",
   "nbconvert_exporter": "python",
   "pygments_lexer": "ipython3",
   "version": "3.13.0"
  }
 },
 "nbformat": 4,
 "nbformat_minor": 2
}
