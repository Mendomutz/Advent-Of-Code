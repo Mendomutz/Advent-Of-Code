{
 "cells": [
  {
   "cell_type": "code",
   "execution_count": 26,
   "metadata": {},
   "outputs": [
    {
     "name": "stdout",
     "output_type": "stream",
     "text": [
      "Total code chars: 23\n",
      "Total content chars: 11\n",
      "Difference: 12\n"
     ]
    }
   ],
   "source": [
    "# Exemplo 1\n",
    "\n",
    "input = '''\"\"\n",
    "\"abc\"\n",
    "\"aaa\\\\\"aaa\"\n",
    "\"\\\\x27\"'''\n",
    "\n",
    "def parse_input():\n",
    "    return [row for row in input.splitlines()]\n",
    "\n",
    "def count_chars(string):\n",
    "  return len(string)\n",
    "\n",
    "def count_content_chars(string):\n",
    "    return len(eval(string))\n",
    "\n",
    "STRINGS = parse_input()\n",
    "CODE = 0\n",
    "CHARS = 0\n",
    "\n",
    "for item in STRINGS:\n",
    "  CODE += count_chars(item)\n",
    "  CHARS += count_content_chars(item)\n",
    "\n",
    "print(f\"Total code chars: {CODE}\")\n",
    "print(f\"Total content chars: {CHARS}\")\n",
    "print(f\"Difference: {CODE - CHARS}\")"
   ]
  },
  {
   "cell_type": "code",
   "execution_count": 27,
   "metadata": {},
   "outputs": [
    {
     "name": "stdout",
     "output_type": "stream",
     "text": [
      "Total code chars: 6489\n",
      "Total content chars: 5118\n",
      "Difference: 1371\n"
     ]
    }
   ],
   "source": [
    "# Código 1\n",
    "\n",
    "def parse_input():\n",
    "    with open(\"input.txt\", \"r\") as file:\n",
    "        data = file.read()\n",
    "\n",
    "    return [row for row in data.splitlines()]\n",
    "\n",
    "def count_chars(string):\n",
    "  return len(string)\n",
    "\n",
    "def count_content_chars(string):\n",
    "    return len(eval(string))\n",
    "\n",
    "STRINGS = parse_input()\n",
    "CODE = 0\n",
    "CHARS = 0\n",
    "\n",
    "for item in STRINGS:\n",
    "  CODE += count_chars(item)\n",
    "  CHARS += count_content_chars(item)\n",
    "\n",
    "print(f\"Total code chars: {CODE}\")\n",
    "print(f\"Total content chars: {CHARS}\")\n",
    "print(f\"Difference: {CODE - CHARS}\")"
   ]
  },
  {
   "cell_type": "code",
   "execution_count": 28,
   "metadata": {},
   "outputs": [
    {
     "name": "stdout",
     "output_type": "stream",
     "text": [
      "Total encoded code chars: 42\n",
      "Total code chars: 23\n",
      "Difference: 19\n"
     ]
    }
   ],
   "source": [
    "# Exemplo 2\n",
    "\n",
    "input = '''\"\"\n",
    "\"abc\"\n",
    "\"aaa\\\\\"aaa\"\n",
    "\"\\\\x27\"'''\n",
    "\n",
    "def parse_input():\n",
    "    return [row for row in input.splitlines()]\n",
    "\n",
    "def count_encoded_chars(string):\n",
    "  size = 2\n",
    "\n",
    "  for i in range(len(string)):\n",
    "    if string[i] in ['\"', '\\\\']:\n",
    "      size += 1\n",
    "\n",
    "  return len(string) + size\n",
    "\n",
    "def count_chars(string):\n",
    "    return len(string)\n",
    "\n",
    "STRINGS = parse_input()\n",
    "CODE = 0\n",
    "CHARS = 0\n",
    "\n",
    "for item in STRINGS:\n",
    "  CODE += count_encoded_chars(item)\n",
    "  CHARS += count_chars(item)\n",
    "\n",
    "print(f\"Total encoded code chars: {CODE}\")\n",
    "print(f\"Total code chars: {CHARS}\")\n",
    "print(f\"Difference: {CODE - CHARS}\")"
   ]
  },
  {
   "cell_type": "code",
   "execution_count": 29,
   "metadata": {},
   "outputs": [
    {
     "name": "stdout",
     "output_type": "stream",
     "text": [
      "Total encoded code chars: 8606\n",
      "Total code chars: 6489\n",
      "Difference: 2117\n"
     ]
    }
   ],
   "source": [
    "# Código 2\n",
    "\n",
    "def parse_input():\n",
    "    with open(\"input.txt\", \"r\") as file:\n",
    "        data = file.read()\n",
    "\n",
    "    return [row for row in data.splitlines()]\n",
    "\n",
    "def count_encoded_chars(string):\n",
    "  size = 2\n",
    "\n",
    "  for i in range(len(string)):\n",
    "    if string[i] in ['\"', '\\\\']:\n",
    "      size += 1\n",
    "\n",
    "  return len(string) + size\n",
    "\n",
    "def count_chars(string):\n",
    "    return len(string)\n",
    "\n",
    "STRINGS = parse_input()\n",
    "CODE = 0\n",
    "CHARS = 0\n",
    "\n",
    "for item in STRINGS:\n",
    "  CODE += count_encoded_chars(item)\n",
    "  CHARS += count_chars(item)\n",
    "\n",
    "print(f\"Total encoded code chars: {CODE}\")\n",
    "print(f\"Total code chars: {CHARS}\")\n",
    "print(f\"Difference: {CODE - CHARS}\")"
   ]
  }
 ],
 "metadata": {
  "kernelspec": {
   "display_name": "Python 3",
   "language": "python",
   "name": "python3"
  },
  "language_info": {
   "codemirror_mode": {
    "name": "ipython",
    "version": 3
   },
   "file_extension": ".py",
   "mimetype": "text/x-python",
   "name": "python",
   "nbconvert_exporter": "python",
   "pygments_lexer": "ipython3",
   "version": "3.13.0"
  }
 },
 "nbformat": 4,
 "nbformat_minor": 2
}
