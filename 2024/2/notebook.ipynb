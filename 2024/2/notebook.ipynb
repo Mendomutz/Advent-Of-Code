{
 "cells": [
  {
   "cell_type": "code",
   "execution_count": 1,
   "metadata": {},
   "outputs": [
    {
     "name": "stdout",
     "output_type": "stream",
     "text": [
      "2\n"
     ]
    }
   ],
   "source": [
    "# Exemplo 1\n",
    "\n",
    "reports = [\n",
    "    [7, 6, 4, 2, 1],\n",
    "    [1, 2, 7, 8, 9],\n",
    "    [9, 7, 6, 2, 1],\n",
    "    [1, 3, 2, 4, 5],\n",
    "    [8, 6, 4, 4, 1],\n",
    "    [1, 3, 6, 7, 9]\n",
    "]\n",
    "\n",
    "safeReports = 0\n",
    "\n",
    "from itertools import combinations\n",
    "\n",
    "def isSorted(report):\n",
    "    crescente = all(report[i] <= report[i + 1] for i in range(len(report) - 1))\n",
    "    decrescente = all(report[i] >= report[i + 1] for i in range(len(report) - 1))\n",
    "    return crescente or decrescente\n",
    "\n",
    "def checkDistance(report):\n",
    "    return all(1 <= abs(report[i + 1] - report[i]) <= 3 for i in range(len(report) - 1))\n",
    "\n",
    "def isTolerable(report):\n",
    "    for newReport in combinations(report, len(report) - 1):\n",
    "        if isSorted(newReport) and checkDistance(newReport):\n",
    "            return True\n",
    "    return False\n",
    "\n",
    "for report in reports:\n",
    "    if isSorted(report) and checkDistance(report):\n",
    "        safeReports += 1\n",
    "\n",
    "print(safeReports)"
   ]
  },
  {
   "cell_type": "code",
   "execution_count": 2,
   "metadata": {},
   "outputs": [
    {
     "name": "stdout",
     "output_type": "stream",
     "text": [
      "670\n"
     ]
    }
   ],
   "source": [
    "# Código 1\n",
    "\n",
    "safeReports = 0\n",
    "\n",
    "with open(\"input.txt\", 'r') as arquivo:\n",
    "    for linha in arquivo:\n",
    "        report = list(map(int, linha.strip().split()))\n",
    "        if isSorted(report) and checkDistance(report):\n",
    "            safeReports += 1\n",
    "\n",
    "    print(safeReports)"
   ]
  },
  {
   "cell_type": "code",
   "execution_count": 3,
   "metadata": {},
   "outputs": [
    {
     "name": "stdout",
     "output_type": "stream",
     "text": [
      "4\n"
     ]
    }
   ],
   "source": [
    "# Exemplo 2\n",
    "\n",
    "reports = [\n",
    "    [7, 6, 4, 2, 1],\n",
    "    [1, 2, 7, 8, 9],\n",
    "    [9, 7, 6, 2, 1],\n",
    "    [1, 3, 2, 4, 5],\n",
    "    [8, 6, 4, 4, 1],\n",
    "    [1, 3, 6, 7, 9]\n",
    "]\n",
    "\n",
    "safeReports = 0\n",
    "\n",
    "for report in reports:\n",
    "    if isSorted(report) and checkDistance(report):\n",
    "        safeReports += 1\n",
    "    else:\n",
    "        if isTolerable(report):\n",
    "            safeReports += 1\n",
    "\n",
    "print(safeReports)"
   ]
  },
  {
   "cell_type": "code",
   "execution_count": 4,
   "metadata": {},
   "outputs": [
    {
     "name": "stdout",
     "output_type": "stream",
     "text": [
      "700\n"
     ]
    }
   ],
   "source": [
    "# Código 2\n",
    "\n",
    "safeReports = 0\n",
    "\n",
    "with open(\"input.txt\", 'r') as arquivo:\n",
    "    for linha in arquivo:\n",
    "        report = list(map(int, linha.strip().split()))\n",
    "        if isSorted(report) and checkDistance(report):\n",
    "            safeReports += 1\n",
    "        elif isTolerable(report):\n",
    "            safeReports += 1\n",
    "\n",
    "print(safeReports)"
   ]
  }
 ],
 "metadata": {
  "kernelspec": {
   "display_name": "Python 3",
   "language": "python",
   "name": "python3"
  },
  "language_info": {
   "codemirror_mode": {
    "name": "ipython",
    "version": 3
   },
   "file_extension": ".py",
   "mimetype": "text/x-python",
   "name": "python",
   "nbconvert_exporter": "python",
   "pygments_lexer": "ipython3",
   "version": "3.13.0"
  }
 },
 "nbformat": 4,
 "nbformat_minor": 2
}
