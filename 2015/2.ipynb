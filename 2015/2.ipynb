{
 "cells": [
  {
   "cell_type": "code",
   "execution_count": 21,
   "metadata": {},
   "outputs": [
    {
     "name": "stdout",
     "output_type": "stream",
     "text": [
      "43\n"
     ]
    }
   ],
   "source": [
    "# Exemplo 1\n",
    "\n",
    "l, w, h = 1, 1, 10\n",
    "\n",
    "side1 = 2*l*w\n",
    "side2 = 2*w*h\n",
    "side3 = 2*h*l\n",
    "\n",
    "area = side1 + side2 + side3 + min(side1, side2, side3) // 2\n",
    "\n",
    "print(area)"
   ]
  },
  {
   "cell_type": "code",
   "execution_count": 22,
   "metadata": {},
   "outputs": [
    {
     "name": "stdout",
     "output_type": "stream",
     "text": [
      "1598415\n"
     ]
    }
   ],
   "source": [
    "# Código 1\n",
    "\n",
    "with open(\"C:/Projetos/Advent Of Code/2015/puzzle inputs/2.txt\", \"r\") as file:\n",
    "    input = file.read().splitlines()\n",
    "\n",
    "l, w, h, area = 0, 0, 0, 0\n",
    "\n",
    "for i in input:\n",
    "    l, w, h = map(int, i.split('x'))\n",
    "\n",
    "    side1 = 2*l*w\n",
    "    side2 = 2*w*h\n",
    "    side3 = 2*h*l\n",
    "\n",
    "    area += side1 + side2 + side3 + min(side1, side2, side3) // 2\n",
    "\n",
    "print(area)"
   ]
  },
  {
   "cell_type": "code",
   "execution_count": 23,
   "metadata": {},
   "outputs": [
    {
     "name": "stdout",
     "output_type": "stream",
     "text": [
      "14\n"
     ]
    }
   ],
   "source": [
    "# Exemplo 2\n",
    "\n",
    "l, w, h = 1, 1, 10\n",
    "total, ribbon, bow = 0, 0, 0\n",
    "\n",
    "ribbon = min(2*l + 2*w, 2*w + 2*h, 2*h + 2*l)\n",
    "bow = l*w*h\n",
    "\n",
    "total += ribbon + bow\n",
    "\n",
    "print(total)\n"
   ]
  },
  {
   "cell_type": "code",
   "execution_count": 24,
   "metadata": {},
   "outputs": [
    {
     "name": "stdout",
     "output_type": "stream",
     "text": [
      "3812909\n"
     ]
    }
   ],
   "source": [
    "# Código 2\n",
    "\n",
    "with open(\"C:/Projetos/Advent Of Code/2015/puzzle inputs/2.txt\", \"r\") as file:\n",
    "    input = file.read().splitlines()\n",
    "\n",
    "l, w, h = 0, 0, 0\n",
    "total, ribbon, bow = 0, 0, 0\n",
    "\n",
    "for i in input:\n",
    "    l, w, h = map(int, i.split('x'))\n",
    "\n",
    "    ribbon = min(2*l + 2*w, 2*w + 2*h, 2*h + 2*l)\n",
    "    bow = l*w*h\n",
    "\n",
    "    total += ribbon + bow\n",
    "\n",
    "print(total)"
   ]
  }
 ],
 "metadata": {
  "kernelspec": {
   "display_name": "Python 3",
   "language": "python",
   "name": "python3"
  },
  "language_info": {
   "codemirror_mode": {
    "name": "ipython",
    "version": 3
   },
   "file_extension": ".py",
   "mimetype": "text/x-python",
   "name": "python",
   "nbconvert_exporter": "python",
   "pygments_lexer": "ipython3",
   "version": "3.13.0"
  }
 },
 "nbformat": 4,
 "nbformat_minor": 2
}
