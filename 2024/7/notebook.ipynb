{
 "cells": [
  {
   "cell_type": "code",
   "execution_count": 1,
   "metadata": {},
   "outputs": [
    {
     "name": "stdout",
     "output_type": "stream",
     "text": [
      "3749\n"
     ]
    }
   ],
   "source": [
    "# Exemplo 1\n",
    "\n",
    "import itertools\n",
    "\n",
    "input = \"\"\"190: 10 19\n",
    "3267: 81 40 27\n",
    "83: 17 5\n",
    "156: 15 6\n",
    "7290: 6 8 6 15\n",
    "161011: 16 10 13\n",
    "192: 17 8 14\n",
    "21037: 9 7 18 13\n",
    "292: 11 6 16 20\"\"\"\n",
    "\n",
    "operators = ['+', '*']\n",
    "\n",
    "soma = [item.split(':')[0].strip() for item in input.split('\\n')]\n",
    "numeros = [item.split(':')[1].strip() for item in input.split('\\n')]\n",
    "\n",
    "result = []\n",
    "\n",
    "def operation(total, numbers):\n",
    "    totalSoma = numbers[0]\n",
    "\n",
    "    for ops in itertools.product(operators, repeat=len(numbers) - 1):\n",
    "        for i, op in enumerate(ops):\n",
    "            if op == '+':\n",
    "                totalSoma += numbers[i + 1]\n",
    "            elif op == '*':\n",
    "                totalSoma *= numbers[i + 1]\n",
    "\n",
    "        if totalSoma == total:\n",
    "            result.append(total)\n",
    "            return\n",
    "        else:\n",
    "            totalSoma = numbers[0]\n",
    "\n",
    "for i in range(len(soma)):\n",
    "    currentItem = numeros[i]\n",
    "    currentSoma = soma[i]\n",
    "\n",
    "    operation(int(currentSoma), [int(x) for x in currentItem.split()])\n",
    "\n",
    "print(sum(result))"
   ]
  },
  {
   "cell_type": "code",
   "execution_count": 2,
   "metadata": {},
   "outputs": [
    {
     "name": "stdout",
     "output_type": "stream",
     "text": [
      "538191549061\n"
     ]
    }
   ],
   "source": [
    "# Código 1\n",
    "\n",
    "import itertools\n",
    "\n",
    "with open(\"input.txt\", \"r\") as arquivo:\n",
    "    input = arquivo.read()\n",
    "\n",
    "operators = ['+', '*']\n",
    "\n",
    "soma = [item.split(':')[0].strip() for item in input.split('\\n')]\n",
    "numeros = [item.split(':')[1].strip() for item in input.split('\\n')]\n",
    "\n",
    "result = []\n",
    "\n",
    "def operation(total, numbers):\n",
    "    totalSoma = numbers[0]\n",
    "\n",
    "    for ops in itertools.product(operators, repeat=len(numbers) - 1):\n",
    "        for i, op in enumerate(ops):\n",
    "            if op == '+':\n",
    "                totalSoma += numbers[i + 1]\n",
    "            elif op == '*':\n",
    "                totalSoma *= numbers[i + 1]\n",
    "\n",
    "        if totalSoma == total:\n",
    "            result.append(total)\n",
    "            return\n",
    "        else:\n",
    "            totalSoma = numbers[0]\n",
    "\n",
    "for i in range(len(soma)):\n",
    "    currentItem = numeros[i]\n",
    "    currentSoma = soma[i]\n",
    "\n",
    "    operation(int(currentSoma), [int(x) for x in currentItem.split()])\n",
    "\n",
    "print(sum(result))"
   ]
  },
  {
   "cell_type": "code",
   "execution_count": 3,
   "metadata": {},
   "outputs": [
    {
     "name": "stdout",
     "output_type": "stream",
     "text": [
      "11387\n"
     ]
    }
   ],
   "source": [
    "# Exemplo 2\n",
    "\n",
    "import itertools\n",
    "\n",
    "input = \"\"\"190: 10 19\n",
    "3267: 81 40 27\n",
    "83: 17 5\n",
    "156: 15 6\n",
    "7290: 6 8 6 15\n",
    "161011: 16 10 13\n",
    "192: 17 8 14\n",
    "21037: 9 7 18 13\n",
    "292: 11 6 16 20\"\"\"\n",
    "\n",
    "operators = ['+', '*', '||']\n",
    "\n",
    "soma = [item.split(':')[0].strip() for item in input.split('\\n')]\n",
    "numeros = [item.split(':')[1].strip() for item in input.split('\\n')]\n",
    "\n",
    "result = []\n",
    "\n",
    "def operation(total, numbers):\n",
    "    totalSoma = numbers[0]\n",
    "\n",
    "    for ops in itertools.product(operators, repeat=len(numbers) - 1):\n",
    "        for i, op in enumerate(ops):\n",
    "            if op == '+':\n",
    "                totalSoma += numbers[i + 1]\n",
    "            elif op == '*':\n",
    "                totalSoma *= numbers[i + 1]\n",
    "            elif op == '||':\n",
    "                number = eval(f\"{totalSoma}{numbers[i + 1]}\")\n",
    "                totalSoma = number\n",
    "\n",
    "        if totalSoma == total:\n",
    "            result.append(total)\n",
    "            return\n",
    "        else:\n",
    "            totalSoma = numbers[0]\n",
    "\n",
    "for i in range(len(soma)):\n",
    "    currentItem = numeros[i]\n",
    "    currentSoma = soma[i]\n",
    "\n",
    "    operation(int(currentSoma), [int(x) for x in currentItem.split()])\n",
    "\n",
    "print(sum(result))"
   ]
  },
  {
   "cell_type": "code",
   "execution_count": 4,
   "metadata": {},
   "outputs": [
    {
     "name": "stdout",
     "output_type": "stream",
     "text": [
      "34612812972206\n"
     ]
    }
   ],
   "source": [
    "# Código 2\n",
    "\n",
    "import itertools\n",
    "\n",
    "with open(\"input.txt\", \"r\") as arquivo:\n",
    "    input = arquivo.read()\n",
    "\n",
    "operators = ['+', '*', '||']\n",
    "\n",
    "soma = [item.split(':')[0].strip() for item in input.split('\\n')]\n",
    "numeros = [item.split(':')[1].strip() for item in input.split('\\n')]\n",
    "\n",
    "result = []\n",
    "\n",
    "def operation(total, numbers):\n",
    "    totalSoma = numbers[0]\n",
    "\n",
    "    for ops in itertools.product(operators, repeat=len(numbers) - 1):\n",
    "        for i, op in enumerate(ops):\n",
    "            if op == '+':\n",
    "                totalSoma += numbers[i + 1]\n",
    "            elif op == '*':\n",
    "                totalSoma *= numbers[i + 1]\n",
    "            elif op == '||':\n",
    "                number = eval(f\"{totalSoma}{numbers[i + 1]}\")\n",
    "                totalSoma = number\n",
    "\n",
    "        if totalSoma == total:\n",
    "            result.append(total)\n",
    "            return\n",
    "        else:\n",
    "            totalSoma = numbers[0]\n",
    "\n",
    "for i in range(len(soma)):\n",
    "    currentItem = numeros[i]\n",
    "    currentSoma = soma[i]\n",
    "\n",
    "    operation(int(currentSoma), [int(x) for x in currentItem.split()])\n",
    "\n",
    "print(sum(result))"
   ]
  }
 ],
 "metadata": {
  "kernelspec": {
   "display_name": "Python 3",
   "language": "python",
   "name": "python3"
  },
  "language_info": {
   "codemirror_mode": {
    "name": "ipython",
    "version": 3
   },
   "file_extension": ".py",
   "mimetype": "text/x-python",
   "name": "python",
   "nbconvert_exporter": "python",
   "pygments_lexer": "ipython3",
   "version": "3.13.0"
  }
 },
 "nbformat": 4,
 "nbformat_minor": 2
}
