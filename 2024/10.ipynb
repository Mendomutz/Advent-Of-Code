{
 "cells": [
  {
   "cell_type": "code",
   "execution_count": 5,
   "metadata": {},
   "outputs": [
    {
     "name": "stdout",
     "output_type": "stream",
     "text": [
      "Part 1: 36\n"
     ]
    }
   ],
   "source": [
    "# Exemplo 1\n",
    "\n",
    "input = \"\"\"89010123\n",
    "78121874\n",
    "87430965\n",
    "96549874\n",
    "45678903\n",
    "32019012\n",
    "01329801\n",
    "10456732\"\"\"\n",
    "\n",
    "def parse_input():\n",
    "    return [list(map(int, row)) for row in input.splitlines()]\n",
    "\n",
    "GRID = parse_input()\n",
    "N, M = len(GRID), len(GRID[0])\n",
    "TRAILHEADS = [(i, j) for i in range(N) for j in range(M) if GRID[i][j] == 0]\n",
    "\n",
    "def dfs(i, j, pt2=False):\n",
    "    if GRID[i][j] == 9:\n",
    "        return 1 if pt2 else {(i, j)}\n",
    "    res = 0 if pt2 else set()\n",
    "    for ni, nj in ((i + 1, j), (i - 1, j), (i, j + 1), (i, j - 1)):\n",
    "        if 0 <= ni < N and 0 <= nj < M and GRID[ni][nj] == GRID[i][j] + 1:\n",
    "            if pt2:\n",
    "                res += dfs(ni, nj, True)\n",
    "            else:\n",
    "                res |= dfs(ni, nj)\n",
    "    return res\n",
    "\n",
    "def part_one():\n",
    "    return sum(len(dfs(i, j)) for i, j in TRAILHEADS)\n",
    "\n",
    "print(f\"Part 1: {part_one()}\")"
   ]
  },
  {
   "cell_type": "code",
   "execution_count": 6,
   "metadata": {},
   "outputs": [
    {
     "name": "stdout",
     "output_type": "stream",
     "text": [
      "Part 1: 776\n"
     ]
    }
   ],
   "source": [
    "# Código 1\n",
    "\n",
    "def parse_input():\n",
    "    with open(\"C:/Projetos/Advent Of Code/2024/puzzle inputs/10.txt\", \"r\") as file:\n",
    "        data = file.read()\n",
    "\n",
    "    return [list(map(int, row)) for row in data.splitlines()]\n",
    "\n",
    "GRID = parse_input()\n",
    "N, M = len(GRID), len(GRID[0])\n",
    "TRAILHEADS = [(i, j) for i in range(N) for j in range(M) if GRID[i][j] == 0]\n",
    "\n",
    "def dfs(i, j, pt2=False):\n",
    "    if GRID[i][j] == 9:\n",
    "        return 1 if pt2 else {(i, j)}\n",
    "\n",
    "    res = 0 if pt2 else set()\n",
    "\n",
    "    for ni, nj in ((i + 1, j), (i - 1, j), (i, j + 1), (i, j - 1)):\n",
    "        if 0 <= ni < N and 0 <= nj < M and GRID[ni][nj] == GRID[i][j] + 1:\n",
    "            if pt2:\n",
    "                res += dfs(ni, nj, True)\n",
    "            else:\n",
    "                res |= dfs(ni, nj)\n",
    "\n",
    "    return res\n",
    "\n",
    "def part_one():\n",
    "    return sum(len(dfs(i, j)) for i, j in TRAILHEADS)\n",
    "\n",
    "print(f\"Part 1: {part_one()}\")"
   ]
  },
  {
   "cell_type": "code",
   "execution_count": 7,
   "metadata": {},
   "outputs": [
    {
     "name": "stdout",
     "output_type": "stream",
     "text": [
      "Part 2: 81\n"
     ]
    }
   ],
   "source": [
    "# Exemplo 2\n",
    "\n",
    "input = \"\"\"89010123\n",
    "78121874\n",
    "87430965\n",
    "96549874\n",
    "45678903\n",
    "32019012\n",
    "01329801\n",
    "10456732\"\"\"\n",
    "\n",
    "def parse_input():\n",
    "    return [list(map(int, row)) for row in input.splitlines()]\n",
    "\n",
    "GRID = parse_input()\n",
    "N, M = len(GRID), len(GRID[0])\n",
    "TRAILHEADS = [(i, j) for i in range(N) for j in range(M) if GRID[i][j] == 0]\n",
    "\n",
    "def dfs(i, j, pt2=False):\n",
    "    if GRID[i][j] == 9:\n",
    "        return 1 if pt2 else {(i, j)}\n",
    "\n",
    "    res = 0 if pt2 else set()\n",
    "\n",
    "    for ni, nj in ((i + 1, j), (i - 1, j), (i, j + 1), (i, j - 1)):\n",
    "        if 0 <= ni < N and 0 <= nj < M and GRID[ni][nj] == GRID[i][j] + 1:\n",
    "            if pt2:\n",
    "                res += dfs(ni, nj, True)\n",
    "            else:\n",
    "                res |= dfs(ni, nj)\n",
    "\n",
    "    return res\n",
    "\n",
    "def part_two():\n",
    "    return sum(dfs(i, j, True) for i, j in TRAILHEADS)\n",
    "\n",
    "print(f\"Part 2: {part_two()}\")"
   ]
  },
  {
   "cell_type": "code",
   "execution_count": 8,
   "metadata": {},
   "outputs": [
    {
     "name": "stdout",
     "output_type": "stream",
     "text": [
      "Part 2: 1657\n"
     ]
    }
   ],
   "source": [
    "# Código 2\n",
    "\n",
    "def parse_input():\n",
    "    with open(\"C:/Projetos/Advent Of Code/2024/puzzle inputs/10.txt\", \"r\") as file:\n",
    "        data = file.read()\n",
    "\n",
    "    return [list(map(int, row)) for row in data.splitlines()]\n",
    "\n",
    "GRID = parse_input()\n",
    "N, M = len(GRID), len(GRID[0])\n",
    "TRAILHEADS = [(i, j) for i in range(N) for j in range(M) if GRID[i][j] == 0]\n",
    "\n",
    "def dfs(i, j, pt2=False):\n",
    "    if GRID[i][j] == 9:\n",
    "        return 1 if pt2 else {(i, j)}\n",
    "\n",
    "    res = 0 if pt2 else set()\n",
    "\n",
    "    for ni, nj in ((i + 1, j), (i - 1, j), (i, j + 1), (i, j - 1)):\n",
    "        if 0 <= ni < N and 0 <= nj < M and GRID[ni][nj] == GRID[i][j] + 1:\n",
    "            if pt2:\n",
    "                res += dfs(ni, nj, True)\n",
    "            else:\n",
    "                res |= dfs(ni, nj)\n",
    "\n",
    "    return res\n",
    "\n",
    "def part_two():\n",
    "    return sum(dfs(i, j, True) for i, j in TRAILHEADS)\n",
    "\n",
    "print(f\"Part 2: {part_two()}\")"
   ]
  }
 ],
 "metadata": {
  "kernelspec": {
   "display_name": "Python 3",
   "language": "python",
   "name": "python3"
  },
  "language_info": {
   "codemirror_mode": {
    "name": "ipython",
    "version": 3
   },
   "file_extension": ".py",
   "mimetype": "text/x-python",
   "name": "python",
   "nbconvert_exporter": "python",
   "pygments_lexer": "ipython3",
   "version": "3.13.0"
  }
 },
 "nbformat": 4,
 "nbformat_minor": 2
}
