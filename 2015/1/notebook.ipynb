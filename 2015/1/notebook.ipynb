{
 "cells": [
  {
   "cell_type": "code",
   "execution_count": 1,
   "metadata": {},
   "outputs": [
    {
     "name": "stdout",
     "output_type": "stream",
     "text": [
      "-3\n"
     ]
    }
   ],
   "source": [
    "# Exemplo 1\n",
    "\n",
    "input = \")())())\"\n",
    "\n",
    "floor = sum(1 if char == \"(\" else -1 if char == \")\" else 0 for char in input)\n",
    "\n",
    "print(floor)"
   ]
  },
  {
   "cell_type": "code",
   "execution_count": 2,
   "metadata": {},
   "outputs": [
    {
     "name": "stdout",
     "output_type": "stream",
     "text": [
      "74\n"
     ]
    }
   ],
   "source": [
    "# Código 1\n",
    "\n",
    "with open(\"input.txt\", \"r\") as file:\n",
    "    input = file.read()\n",
    "\n",
    "floor = sum(1 if char == \"(\" else -1 if char == \")\" else 0 for char in input)\n",
    "\n",
    "print(floor)"
   ]
  },
  {
   "cell_type": "code",
   "execution_count": 3,
   "metadata": {},
   "outputs": [
    {
     "name": "stdout",
     "output_type": "stream",
     "text": [
      "1\n"
     ]
    }
   ],
   "source": [
    "# Exemplo 2\n",
    "\n",
    "input = \")())())\"\n",
    "\n",
    "floor = 0\n",
    "\n",
    "for i in range(len(input)):\n",
    "    if input[i] == \"(\":\n",
    "        floor += 1\n",
    "\n",
    "    else:\n",
    "        floor -= 1\n",
    "\n",
    "    if floor == -1:\n",
    "        print(i + 1)\n",
    "        break\n"
   ]
  },
  {
   "cell_type": "code",
   "execution_count": 4,
   "metadata": {},
   "outputs": [
    {
     "name": "stdout",
     "output_type": "stream",
     "text": [
      "1795\n"
     ]
    }
   ],
   "source": [
    "# Código 2\n",
    "\n",
    "with open(\"input.txt\", \"r\") as file:\n",
    "    input = file.read()\n",
    "\n",
    "floor = 0\n",
    "\n",
    "for i in range(len(input)):\n",
    "    if input[i] == \"(\":\n",
    "        floor += 1\n",
    "\n",
    "    else:\n",
    "        floor -= 1\n",
    "\n",
    "    if floor == -1:\n",
    "        print(i + 1)\n",
    "        break"
   ]
  }
 ],
 "metadata": {
  "kernelspec": {
   "display_name": "Python 3",
   "language": "python",
   "name": "python3"
  },
  "language_info": {
   "codemirror_mode": {
    "name": "ipython",
    "version": 3
   },
   "file_extension": ".py",
   "mimetype": "text/x-python",
   "name": "python",
   "nbconvert_exporter": "python",
   "pygments_lexer": "ipython3",
   "version": "3.13.0"
  }
 },
 "nbformat": 4,
 "nbformat_minor": 2
}
