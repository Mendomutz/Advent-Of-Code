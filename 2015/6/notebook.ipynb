{
 "cells": [
  {
   "cell_type": "code",
   "execution_count": 1,
   "metadata": {},
   "outputs": [
    {
     "name": "stdout",
     "output_type": "stream",
     "text": [
      "999\n"
     ]
    }
   ],
   "source": [
    "# Exemplo 1\n",
    "\n",
    "import re\n",
    "\n",
    "matrix = [[0] * 1000 for _ in range(1000)]\n",
    "\n",
    "input = [\n",
    "    \"turn on 0,0 through 0,0\",\n",
    "    \"toggle 0,0 through 999,0\",\n",
    "]\n",
    "\n",
    "totalBrightness = 0\n",
    "\n",
    "for item in input:\n",
    "    coordinates = re.findall(r\"\\d+,\\d+\", item)\n",
    "    instructions = re.findall(r\"(turn on|turn off|toggle)+\", item)\n",
    "\n",
    "    begining = coordinates[0]\n",
    "    ending = coordinates[1]\n",
    "\n",
    "    for i in range(int(begining.split(\",\")[0]), int(ending.split(\",\")[0]) + 1):\n",
    "        for j in range(int(begining.split(\",\")[1]), int(ending.split(\",\")[1]) + 1):\n",
    "            if instructions[0] == \"turn on\":\n",
    "                matrix[i][j] = 1\n",
    "\n",
    "            elif instructions[0] == \"turn off\":\n",
    "                matrix[i][j] = 0\n",
    "\n",
    "            else:\n",
    "                matrix[i][j] = 1 if matrix[i][j] == 0 else 0\n",
    "\n",
    "for i in range(1000):\n",
    "    for j in range(1000):\n",
    "        totalBrightness += matrix[i][j]\n",
    "\n",
    "print(totalBrightness)"
   ]
  },
  {
   "cell_type": "code",
   "execution_count": 2,
   "metadata": {},
   "outputs": [
    {
     "name": "stdout",
     "output_type": "stream",
     "text": [
      "569999\n"
     ]
    }
   ],
   "source": [
    "# Código 1\n",
    "\n",
    "import re\n",
    "\n",
    "matrix = [[0] * 1000 for _ in range(1000)]\n",
    "\n",
    "with open(\"input.txt\", \"r\") as file:\n",
    "    input = file.read().splitlines()\n",
    "\n",
    "totalBrightness = 0\n",
    "\n",
    "for item in input:\n",
    "    coordinates = re.findall(r\"\\d+,\\d+\", item)\n",
    "    instructions = re.findall(r\"(turn on|turn off|toggle)+\", item)\n",
    "\n",
    "    begining = coordinates[0]\n",
    "    ending = coordinates[1]\n",
    "\n",
    "    for i in range(int(begining.split(\",\")[0]), int(ending.split(\",\")[0]) + 1):\n",
    "        for j in range(int(begining.split(\",\")[1]), int(ending.split(\",\")[1]) + 1):\n",
    "            if instructions[0] == \"turn on\":\n",
    "                matrix[i][j] = 1\n",
    "\n",
    "            elif instructions[0] == \"turn off\":\n",
    "                matrix[i][j] = 0\n",
    "\n",
    "            else:\n",
    "                matrix[i][j] = 1 if matrix[i][j] == 0 else 0\n",
    "\n",
    "for i in range(1000):\n",
    "    for j in range(1000):\n",
    "        totalBrightness += matrix[i][j]\n",
    "\n",
    "print(totalBrightness)"
   ]
  },
  {
   "cell_type": "code",
   "execution_count": 3,
   "metadata": {},
   "outputs": [
    {
     "name": "stdout",
     "output_type": "stream",
     "text": [
      "2001\n"
     ]
    }
   ],
   "source": [
    "# Exemplo 2\n",
    "\n",
    "import re\n",
    "\n",
    "matrix = [[0] * 1000 for _ in range(1000)]\n",
    "\n",
    "input = [\n",
    "    \"turn on 0,0 through 0,0\",\n",
    "    \"toggle 0,0 through 999,0\",\n",
    "]\n",
    "\n",
    "totalBrightness = 0\n",
    "\n",
    "for item in input:\n",
    "    coordinates = re.findall(r\"\\d+,\\d+\", item)\n",
    "    instructions = re.findall(r\"(turn on|turn off|toggle)+\", item)\n",
    "\n",
    "    begining = coordinates[0]\n",
    "    ending = coordinates[1]\n",
    "\n",
    "    for i in range(int(begining.split(\",\")[0]), int(ending.split(\",\")[0]) + 1):\n",
    "        for j in range(int(begining.split(\",\")[1]), int(ending.split(\",\")[1]) + 1):\n",
    "            if instructions[0] == \"turn on\":\n",
    "                matrix[i][j] += 1\n",
    "\n",
    "            elif instructions[0] == \"turn off\":\n",
    "                if matrix[i][j] > 0:\n",
    "                    matrix[i][j] -= 1\n",
    "\n",
    "                else:\n",
    "                    matrix[i][j] = 0\n",
    "\n",
    "            else:\n",
    "                matrix[i][j] += 2\n",
    "\n",
    "for i in range(1000):\n",
    "    for j in range(1000):\n",
    "        totalBrightness += matrix[i][j]\n",
    "\n",
    "print(totalBrightness)"
   ]
  },
  {
   "cell_type": "code",
   "execution_count": 4,
   "metadata": {},
   "outputs": [
    {
     "name": "stdout",
     "output_type": "stream",
     "text": [
      "17836115\n"
     ]
    }
   ],
   "source": [
    "# Código 2\n",
    "\n",
    "import re\n",
    "\n",
    "matrix = [[0] * 1000 for _ in range(1000)]\n",
    "\n",
    "with open(\"input.txt\", \"r\") as file:\n",
    "    input = file.read().splitlines()\n",
    "\n",
    "totalBrightness = 0\n",
    "\n",
    "for item in input:\n",
    "    coordinates = re.findall(r\"\\d+,\\d+\", item)\n",
    "    instructions = re.findall(r\"(turn on|turn off|toggle)+\", item)\n",
    "\n",
    "    begining = coordinates[0]\n",
    "    ending = coordinates[1]\n",
    "\n",
    "    for i in range(int(begining.split(\",\")[0]), int(ending.split(\",\")[0]) + 1):\n",
    "        for j in range(int(begining.split(\",\")[1]), int(ending.split(\",\")[1]) + 1):\n",
    "            if instructions[0] == \"turn on\":\n",
    "                matrix[i][j] += 1\n",
    "\n",
    "            elif instructions[0] == \"turn off\":\n",
    "                if matrix[i][j] > 0:\n",
    "                    matrix[i][j] -= 1\n",
    "\n",
    "                else:\n",
    "                    matrix[i][j] = 0\n",
    "\n",
    "            else:\n",
    "                matrix[i][j] += 2\n",
    "\n",
    "for i in range(1000):\n",
    "    for j in range(1000):\n",
    "        totalBrightness += matrix[i][j]\n",
    "\n",
    "print(totalBrightness)"
   ]
  }
 ],
 "metadata": {
  "kernelspec": {
   "display_name": "Python 3",
   "language": "python",
   "name": "python3"
  },
  "language_info": {
   "codemirror_mode": {
    "name": "ipython",
    "version": 3
   },
   "file_extension": ".py",
   "mimetype": "text/x-python",
   "name": "python",
   "nbconvert_exporter": "python",
   "pygments_lexer": "ipython3",
   "version": "3.13.0"
  }
 },
 "nbformat": 4,
 "nbformat_minor": 2
}
