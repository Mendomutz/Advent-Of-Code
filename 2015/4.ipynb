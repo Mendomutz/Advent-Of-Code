{
 "cells": [
  {
   "cell_type": "code",
   "execution_count": 12,
   "metadata": {},
   "outputs": [
    {
     "name": "stdout",
     "output_type": "stream",
     "text": [
      "609043\n",
      "1048970\n"
     ]
    }
   ],
   "source": [
    "# Exemplo 1\n",
    "\n",
    "from hashlib import md5\n",
    "\n",
    "input = [\"abcdef\", \"pqrstuv\"]\n",
    "\n",
    "for item in input:\n",
    "    i = 0\n",
    "    while True:\n",
    "        string = item + str(i)\n",
    "\n",
    "        output = md5(string.encode()).hexdigest()\n",
    "\n",
    "        if output[:5] == \"00000\":\n",
    "            print(i)\n",
    "            break\n",
    "\n",
    "        i += 1"
   ]
  },
  {
   "cell_type": "code",
   "execution_count": 13,
   "metadata": {},
   "outputs": [
    {
     "name": "stdout",
     "output_type": "stream",
     "text": [
      "117946\n"
     ]
    }
   ],
   "source": [
    "# Código 1\n",
    "\n",
    "from hashlib import md5\n",
    "\n",
    "with open(\"C:/Projetos/Advent Of Code/2015/puzzle inputs/4.txt\", \"r\") as file:\n",
    "    input = file.read().splitlines()\n",
    "\n",
    "for item in input:\n",
    "    i = 0\n",
    "    while True:\n",
    "        string = item + str(i)\n",
    "\n",
    "        output = md5(string.encode()).hexdigest()\n",
    "\n",
    "        if output[:5] == \"00000\":\n",
    "            print(i)\n",
    "            break\n",
    "\n",
    "        i += 1"
   ]
  },
  {
   "cell_type": "code",
   "execution_count": 14,
   "metadata": {},
   "outputs": [
    {
     "name": "stdout",
     "output_type": "stream",
     "text": [
      "6742839\n",
      "5714438\n"
     ]
    }
   ],
   "source": [
    "# Exemplo 2\n",
    "\n",
    "from hashlib import md5\n",
    "\n",
    "input = [\"abcdef\", \"pqrstuv\"]\n",
    "\n",
    "for item in input:\n",
    "    i = 0\n",
    "    while True:\n",
    "        string = item + str(i)\n",
    "\n",
    "        output = md5(string.encode()).hexdigest()\n",
    "\n",
    "        if output[:6] == \"000000\":\n",
    "            print(i)\n",
    "            break\n",
    "\n",
    "        i += 1\n"
   ]
  },
  {
   "cell_type": "code",
   "execution_count": 15,
   "metadata": {},
   "outputs": [
    {
     "name": "stdout",
     "output_type": "stream",
     "text": [
      "3938038\n"
     ]
    }
   ],
   "source": [
    "# Código 2\n",
    "\n",
    "from hashlib import md5\n",
    "\n",
    "with open(\"C:/Projetos/Advent Of Code/2015/puzzle inputs/4.txt\", \"r\") as file:\n",
    "    input = file.read().splitlines()\n",
    "\n",
    "for item in input:\n",
    "    i = 0\n",
    "    while True:\n",
    "        string = item + str(i)\n",
    "\n",
    "        output = md5(string.encode()).hexdigest()\n",
    "\n",
    "        if output[:6] == \"000000\":\n",
    "            print(i)\n",
    "            break\n",
    "\n",
    "        i += 1"
   ]
  }
 ],
 "metadata": {
  "kernelspec": {
   "display_name": "Python 3",
   "language": "python",
   "name": "python3"
  },
  "language_info": {
   "codemirror_mode": {
    "name": "ipython",
    "version": 3
   },
   "file_extension": ".py",
   "mimetype": "text/x-python",
   "name": "python",
   "nbconvert_exporter": "python",
   "pygments_lexer": "ipython3",
   "version": "3.13.0"
  }
 },
 "nbformat": 4,
 "nbformat_minor": 2
}
