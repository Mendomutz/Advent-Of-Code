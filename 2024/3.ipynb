{
 "cells": [
  {
   "cell_type": "code",
   "execution_count": 1,
   "metadata": {},
   "outputs": [
    {
     "name": "stdout",
     "output_type": "stream",
     "text": [
      "161\n"
     ]
    }
   ],
   "source": [
    "# Exemplo 1\n",
    "\n",
    "import re\n",
    "\n",
    "multiplications = []\n",
    "input = \"xmul(2,4)%&mul[3,7]!@^do_not_mul(5,5)+mul(32,64]then(mul(11,8)mul(8,5))\"\n",
    "regex = \"mul\\\\(\\\\d{1,3},\\\\d{1,3}\\\\)\"\n",
    "\n",
    "instructions = re.findall(regex, input)\n",
    "\n",
    "for item in instructions:\n",
    "    numbers = re.findall(\"\\\\d{1,3}\", item)\n",
    "    multiplications.append(int(numbers[0]) * int(numbers[1]))\n",
    "\n",
    "print(sum(multiplications))"
   ]
  },
  {
   "cell_type": "code",
   "execution_count": 2,
   "metadata": {},
   "outputs": [
    {
     "name": "stdout",
     "output_type": "stream",
     "text": [
      "163931492\n"
     ]
    }
   ],
   "source": [
    "# Codigo 1\n",
    "\n",
    "multiplications = []\n",
    "regex = \"mul\\\\(\\\\d{1,3},\\\\d{1,3}\\\\)\"\n",
    "\n",
    "with open(\"C:/Projetos/Advent Of Code/2024/puzzle inputs/3.txt\", \"r\") as arquivo:\n",
    "    instructions = re.findall(regex, arquivo.read())\n",
    "\n",
    "    for item in instructions:\n",
    "        numbers = re.findall(\"\\\\d{1,3}\", item)\n",
    "        multiplications.append(int(numbers[0]) * int(numbers[1]))\n",
    "\n",
    "print(sum(multiplications))"
   ]
  },
  {
   "cell_type": "code",
   "execution_count": 4,
   "metadata": {},
   "outputs": [
    {
     "name": "stdout",
     "output_type": "stream",
     "text": [
      "['mul(2,4)', \"don't()\", 'mul(5,5)', 'mul(11,8)', 'do()', 'mul(8,5)']\n",
      "['mul(2,4)', 'mul(8,5)'] ['mul(5,5)', 'mul(11,8)']\n",
      "48\n"
     ]
    }
   ],
   "source": [
    "# Exemplo 2\n",
    "\n",
    "import re\n",
    "\n",
    "multiplications = []\n",
    "do_list = []\n",
    "dont_list = []\n",
    "\n",
    "current_instructions = 'do'\n",
    "\n",
    "input = \"xmul(2,4)&mul[3,7]!^don't()_mul(5,5)+mul(32,64](mul(11,8)undo()?mul(8,5))\"\n",
    "regex = r\"do(?:n't)?\\(\\)|mul\\(\\d{1,3},\\d{1,3}\\)\"\n",
    "\n",
    "instructions = re.findall(regex, input)\n",
    "\n",
    "for item in instructions:\n",
    "    inst = re.findall(r\"do(?:n't)?|mul\", item)\n",
    "\n",
    "    if inst[0] == 'do':\n",
    "        current_instructions = 'do'\n",
    "    elif inst[0] == \"don't\":\n",
    "        current_instructions = \"don't\"\n",
    "    elif inst[0] == 'mul':\n",
    "        if current_instructions == 'do':\n",
    "            do_list.append(item)\n",
    "        elif current_instructions == \"don't\":\n",
    "            dont_list.append(item)\n",
    "\n",
    "for item in do_list:\n",
    "    numbers = re.findall(r\"\\d{1,3}\", item)\n",
    "    multiplications.append(int(numbers[0]) * int(numbers[1]))\n",
    "\n",
    "print(sum(multiplications))"
   ]
  },
  {
   "cell_type": "code",
   "execution_count": 5,
   "metadata": {},
   "outputs": [
    {
     "name": "stdout",
     "output_type": "stream",
     "text": [
      "76911921\n"
     ]
    }
   ],
   "source": [
    "# Exemplo 2\n",
    "\n",
    "import re\n",
    "\n",
    "multiplications = []\n",
    "do_list = []\n",
    "dont_list = []\n",
    "\n",
    "current_instructions = 'do'\n",
    "\n",
    "with open(\"C:/Projetos/Advent Of Code/2024/puzzle inputs/3.txt\", \"r\") as arquivo:\n",
    "    instructions = re.findall(regex, arquivo.read())\n",
    "\n",
    "    for item in instructions:\n",
    "        inst = re.findall(r\"do(?:n't)?|mul\", item)\n",
    "\n",
    "        if inst[0] == 'do':\n",
    "            current_instructions = 'do'\n",
    "        elif inst[0] == \"don't\":\n",
    "            current_instructions = \"don't\"\n",
    "        elif inst[0] == 'mul':\n",
    "            if current_instructions == 'do':\n",
    "                do_list.append(item)\n",
    "            elif current_instructions == \"don't\":\n",
    "                dont_list.append(item)\n",
    "\n",
    "    for item in do_list:\n",
    "        numbers = re.findall(r\"\\d{1,3}\", item)\n",
    "        multiplications.append(int(numbers[0]) * int(numbers[1]))\n",
    "\n",
    "print(sum(multiplications))"
   ]
  }
 ],
 "metadata": {
  "kernelspec": {
   "display_name": "Python 3",
   "language": "python",
   "name": "python3"
  },
  "language_info": {
   "codemirror_mode": {
    "name": "ipython",
    "version": 3
   },
   "file_extension": ".py",
   "mimetype": "text/x-python",
   "name": "python",
   "nbconvert_exporter": "python",
   "pygments_lexer": "ipython3",
   "version": "3.13.0"
  }
 },
 "nbformat": 4,
 "nbformat_minor": 2
}
