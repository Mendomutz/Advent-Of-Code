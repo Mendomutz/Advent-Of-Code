{
 "cells": [
  {
   "cell_type": "code",
   "execution_count": 1,
   "metadata": {},
   "outputs": [
    {
     "name": "stdout",
     "output_type": "stream",
     "text": [
      "2\n",
      "4\n",
      "4\n"
     ]
    }
   ],
   "source": [
    "# Exemplo 1\n",
    "\n",
    "input = [\"^v^v^v^v^v\", \"^>v<\", \">>><<>\"]\n",
    "\n",
    "x, y = 0, 0\n",
    "\n",
    "for item in input:\n",
    "    visitedHouses = [(0,0)]\n",
    "\n",
    "    for i in range(len(item)):\n",
    "        if item[i] == '^':\n",
    "            y += 1\n",
    "\n",
    "        elif item[i] == '>':\n",
    "            x += 1\n",
    "\n",
    "        elif item[i] == 'v':\n",
    "            y -= 1\n",
    "\n",
    "        elif item[i] == '<':\n",
    "            x -= 1\n",
    "\n",
    "        visitedHouses.append((x, y))\n",
    "\n",
    "    visitedHouses = list(set(visitedHouses))\n",
    "\n",
    "    print(len(visitedHouses))"
   ]
  },
  {
   "cell_type": "code",
   "execution_count": 2,
   "metadata": {},
   "outputs": [
    {
     "name": "stdout",
     "output_type": "stream",
     "text": [
      "2565\n"
     ]
    }
   ],
   "source": [
    "# Código 1\n",
    "\n",
    "with open(\"input.txt\", \"r\") as file:\n",
    "    input = file.read().splitlines()\n",
    "\n",
    "x, y = 0, 0\n",
    "\n",
    "for item in input:\n",
    "    visitedHouses = [(0,0)]\n",
    "\n",
    "    for i in range(len(item)):\n",
    "        if item[i] == '^':\n",
    "            y += 1\n",
    "\n",
    "        elif item[i] == '>':\n",
    "            x += 1\n",
    "\n",
    "        elif item[i] == 'v':\n",
    "            y -= 1\n",
    "\n",
    "        elif item[i] == '<':\n",
    "            x -= 1\n",
    "\n",
    "        visitedHouses.append((x, y))\n",
    "\n",
    "    visitedHouses = list(set(visitedHouses))\n",
    "\n",
    "    print(len(visitedHouses))"
   ]
  },
  {
   "cell_type": "code",
   "execution_count": 3,
   "metadata": {},
   "outputs": [
    {
     "name": "stdout",
     "output_type": "stream",
     "text": [
      "3\n",
      "3\n",
      "11\n"
     ]
    }
   ],
   "source": [
    "# Exemplo 2\n",
    "\n",
    "input = [\"^v\", \"^>v<\", \"^v^v^v^v^v\"]\n",
    "\n",
    "def getNextHouse(x, y, direction):\n",
    "    if direction == '^':\n",
    "        y += 1\n",
    "\n",
    "    elif direction == '>':\n",
    "        x += 1\n",
    "\n",
    "    elif direction == 'v':\n",
    "        y -= 1\n",
    "\n",
    "    elif direction == '<':\n",
    "        x -= 1\n",
    "\n",
    "    return x, y\n",
    "\n",
    "for item in input:\n",
    "    Sx, Sy, Rx, Ry = 0, 0, 0, 0\n",
    "    isSanta = True\n",
    "    visitedHousesBySanta = [(0,0)]\n",
    "    visitedHousesByRoboSanta = [(0,0)]\n",
    "\n",
    "    for i in range(len(item)):\n",
    "        if isSanta:\n",
    "            Sx, Sy = getNextHouse(Sx, Sy, item[i])\n",
    "            visitedHousesBySanta.append((Sx, Sy))\n",
    "\n",
    "        else:\n",
    "            Rx, Ry = getNextHouse(Rx, Ry, item[i])\n",
    "            visitedHousesByRoboSanta.append((Rx, Ry))\n",
    "\n",
    "        isSanta = not isSanta\n",
    "\n",
    "    visitedHouses = list(set(visitedHousesBySanta + visitedHousesByRoboSanta))\n",
    "\n",
    "    print(len(visitedHouses))\n"
   ]
  },
  {
   "cell_type": "code",
   "execution_count": 4,
   "metadata": {},
   "outputs": [
    {
     "name": "stdout",
     "output_type": "stream",
     "text": [
      "2639\n"
     ]
    }
   ],
   "source": [
    "# Código 2\n",
    "\n",
    "with open(\"input.txt\", \"r\") as file:\n",
    "    input = file.read().splitlines()\n",
    "\n",
    "def getNextHouse(x, y, direction):\n",
    "    if direction == '^':\n",
    "        y += 1\n",
    "\n",
    "    elif direction == '>':\n",
    "        x += 1\n",
    "\n",
    "    elif direction == 'v':\n",
    "        y -= 1\n",
    "\n",
    "    elif direction == '<':\n",
    "        x -= 1\n",
    "\n",
    "    return x, y\n",
    "\n",
    "for item in input:\n",
    "    Sx, Sy, Rx, Ry = 0, 0, 0, 0\n",
    "    isSanta = True\n",
    "    visitedHousesBySanta = [(0,0)]\n",
    "    visitedHousesByRoboSanta = [(0,0)]\n",
    "\n",
    "    for i in range(len(item)):\n",
    "        if isSanta:\n",
    "            Sx, Sy = getNextHouse(Sx, Sy, item[i])\n",
    "            visitedHousesBySanta.append((Sx, Sy))\n",
    "\n",
    "        else:\n",
    "            Rx, Ry = getNextHouse(Rx, Ry, item[i])\n",
    "            visitedHousesByRoboSanta.append((Rx, Ry))\n",
    "\n",
    "        isSanta = not isSanta\n",
    "\n",
    "    visitedHouses = list(set(visitedHousesBySanta + visitedHousesByRoboSanta))\n",
    "\n",
    "    print(len(visitedHouses))"
   ]
  }
 ],
 "metadata": {
  "kernelspec": {
   "display_name": "Python 3",
   "language": "python",
   "name": "python3"
  },
  "language_info": {
   "codemirror_mode": {
    "name": "ipython",
    "version": 3
   },
   "file_extension": ".py",
   "mimetype": "text/x-python",
   "name": "python",
   "nbconvert_exporter": "python",
   "pygments_lexer": "ipython3",
   "version": "3.13.0"
  }
 },
 "nbformat": 4,
 "nbformat_minor": 2
}
